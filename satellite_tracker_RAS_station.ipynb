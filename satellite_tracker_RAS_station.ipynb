{
 "cells": [
  {
   "cell_type": "markdown",
   "metadata": {},
   "source": [
    "# Satellite tracker"
   ]
  },
  {
   "cell_type": "markdown",
   "metadata": {},
   "source": [
    "This notebook make an animation of a satellite constellation from a given location (latitude, longitude coordinates)\n",
    "Tles are extracted from celestrak web page\n",
    "For this example, Starlink constellation are plotted seen from Yebes Observatory (Spain)"
   ]
  },
  {
   "cell_type": "code",
   "execution_count": 1,
   "metadata": {},
   "outputs": [],
   "source": [
    "# need to install \"ipympl\" and \"nodejs\" packages\n",
    "# then run:\n",
    "# jupyter labextension install @jupyter-widgets/jupyterlab-manager\n",
    "# jupyter labextension install jupyter-matplotlib\n",
    "\n",
    "%matplotlib widget"
   ]
  },
  {
   "cell_type": "code",
   "execution_count": 2,
   "metadata": {},
   "outputs": [],
   "source": [
    "import requests\n",
    "import datetime\n",
    "import numpy as np\n",
    "\n",
    "import matplotlib\n",
    "import matplotlib.pyplot as plt\n",
    "from matplotlib import animation, rc\n",
    "import ipywidgets as widgets\n",
    "\n",
    "import cysgp4"
   ]
  },
  {
   "cell_type": "raw",
   "metadata": {},
   "source": [
    "Insert the link to the constellation the user want to track. Celestrak catalogue: https://celestrak.com/NORAD/elements/\n",
    "Starlink is used for this example."
   ]
  },
  {
   "cell_type": "code",
   "execution_count": 4,
   "metadata": {},
   "outputs": [
    {
     "data": {
      "application/vnd.jupyter.widget-view+json": {
       "model_id": "a788a3b01935471893cb1ee8159ea0ce",
       "version_major": 2,
       "version_minor": 0
      },
      "text/plain": [
       "Text(value='https://celestrak.com/NORAD/elements/starlink.txt', description='TLE-Catalogue', layout=Layout(hei…"
      ]
     },
     "metadata": {},
     "output_type": "display_data"
    }
   ],
   "source": [
    "layout = widgets.Layout(width='60%', height='40px') #set width and height\n",
    "\n",
    "text = widgets.Text(\n",
    "    value='https://celestrak.com/NORAD/elements/starlink.txt',\n",
    "    placeholder='Paste ticket description here!',\n",
    "    description='TLE-Catalogue',\n",
    "    disabled=False,\n",
    "    layout=layout\n",
    ")\n",
    "display(text)"
   ]
  },
  {
   "cell_type": "code",
   "execution_count": 5,
   "metadata": {},
   "outputs": [],
   "source": [
    "#get the right TLE format\n",
    "celestrak_latest = requests.get(text.value)\n",
    "sat_tles = cysgp4.tles_from_text(celestrak_latest.text)"
   ]
  },
  {
   "cell_type": "raw",
   "metadata": {},
   "source": [
    "Select the telescope from the list or select \"other\" and insert the coordinates at next step"
   ]
  },
  {
   "cell_type": "code",
   "execution_count": 6,
   "metadata": {},
   "outputs": [
    {
     "data": {
      "application/vnd.jupyter.widget-view+json": {
       "model_id": "66512914b07f4cf09cb12653d4c14bfd",
       "version_major": 2,
       "version_minor": 0
      },
      "text/plain": [
       "Dropdown(description='RAS site:', options=('Yebes', 'Effelsberg', 'other'), value='Yebes')"
      ]
     },
     "metadata": {},
     "output_type": "display_data"
    }
   ],
   "source": [
    "selected = widgets.Dropdown(\n",
    "    options=[\"Yebes\", \"Effelsberg\",\"other\"],\n",
    "    value=\"Yebes\",\n",
    "    description=\"RAS site:\",\n",
    "    disabled=False,\n",
    ")\n",
    "display(selected)\n"
   ]
  },
  {
   "cell_type": "code",
   "execution_count": 9,
   "metadata": {},
   "outputs": [],
   "source": [
    "plt.close()\n",
    "if(selected.value == 'other'):\n",
    "    lonW = widgets.FloatText(\n",
    "        value=0,\n",
    "        description='Longitud:',\n",
    "        disabled=False\n",
    "    )    \n",
    "    latW = widgets.FloatText(\n",
    "        value=0,\n",
    "        description='Latitude:',\n",
    "        disabled=False\n",
    "    )\n",
    "    altW = widgets.FloatText(\n",
    "        value=0,\n",
    "        description='Altitude (m):',\n",
    "        disabled=False\n",
    "    )\n",
    "    \n",
    "    nameW = widgets.Textarea(\n",
    "        value='Insert name of RAS station',\n",
    "        placeholder='Type something',\n",
    "        description='String:',\n",
    "        disabled=False\n",
    "    )\n",
    "    display(nameW)\n",
    "    display(lonW)\n",
    "    display(latW)\n",
    "    display(altW)"
   ]
  },
  {
   "cell_type": "code",
   "execution_count": 10,
   "metadata": {},
   "outputs": [],
   "source": [
    "#Location\n",
    "if(selected.value == 'Yebes'):\n",
    "    lat = 40.523475\n",
    "    lon = -3.08853\n",
    "    alt = 0.915\n",
    "    name_station = selected.value\n",
    "elif(selected.value == 'Effelsberg'):\n",
    "    lat = 50.52483\n",
    "    lon = 6.88361\n",
    "    alt = 0.319\n",
    "    name_station = selected.value\n",
    "elif(selected.value == 'other'):\n",
    "    lat = latW.value\n",
    "    lon = lonW.value\n",
    "    alt = altW.value /1000\n",
    "    name_station = nameW.value\n",
    "RAS_location = cysgp4.PyObserver(lon,lat , alt)  # 13.2m TELESCOPE"
   ]
  },
  {
   "cell_type": "code",
   "execution_count": 11,
   "metadata": {},
   "outputs": [
    {
     "data": {
      "text/plain": [
       "(6.88361, 50.52483, 0.319)"
      ]
     },
     "execution_count": 11,
     "metadata": {},
     "output_type": "execute_result"
    }
   ],
   "source": [
    "lon,lat,alt"
   ]
  },
  {
   "cell_type": "code",
   "execution_count": 12,
   "metadata": {},
   "outputs": [],
   "source": [
    "from threading import Thread\n",
    "import time\n",
    "\n",
    "\n",
    "class LiveGraph:\n",
    "    def __init__(self):\n",
    "        \n",
    "        self.my_time = cysgp4.PyDateTime(datetime.datetime.utcnow())\n",
    "        self.topo_pos_az, self.topo_pos_el, self.topo_pos_dist = [], [], []\n",
    "        \n",
    "        plt.close()\n",
    "        self.fig = plt.figure(figsize=(8.54, 4.8), dpi=100)\n",
    "        ax = self.fig.add_axes((0.1, 0.1, 0.8, 0.8))\n",
    "        cax = self.fig.add_axes((0.91, 0.2, 0.02, 0.5))\n",
    "        ax.set_xlabel('Azimuth [deg]')\n",
    "        ax.set_ylabel('Elevation [deg]')\n",
    "        ax.set_xlim((-180, 180))\n",
    "        ax.set_ylim((0, 90))\n",
    "        ax.set_xticks(range(-150, 180, 30))\n",
    "        ax.set_yticks(range(0, 91, 30))\n",
    "        # ax.set_aspect('equal')\n",
    "        ax.grid()\n",
    "\n",
    "        ax.text(-170, 75, name_station, fontsize=16)\n",
    "\n",
    "        vmin, vmax = np.log10(100), np.log10(100000)\n",
    "        self.points = ax.scatter(\n",
    "            self.topo_pos_az[:], self.topo_pos_el[:],\n",
    "            c=np.log10(self.topo_pos_dist[:]),\n",
    "            cmap='viridis', vmin=vmin, vmax=vmax,\n",
    "            )\n",
    "        cbar = self.fig.colorbar(self.points, cax=cax)\n",
    "        cbar.set_label('Distance (km)')\n",
    "        cbar.set_ticks([2, 3, 4])\n",
    "        cbar.set_ticklabels([100, 1000, 10000])\n",
    "        \n",
    "        self.title = ax.text(\n",
    "            174, 75, '{:%y/%m/%d %H:%M:%S}'.format(self.my_time.datetime),\n",
    "            fontsize=15, ha='right'\n",
    "            )\n",
    "\n",
    "        self.animation = animation.FuncAnimation(self.fig, self.update, interval=1000)\n",
    "        self.th = Thread(target=self.thread_f, daemon=True)\n",
    "        self.th.start()\n",
    "\n",
    "    def update(self, frame):\n",
    "        self.points.set_offsets(np.column_stack([self.topo_pos_az[:], self.topo_pos_el[:]]))\n",
    "        self.points.set_array(np.log10(self.topo_pos_dist[:]))\n",
    "        self.title.set_text('{:%y/%m/%d %H:%M:%S}'.format(self.my_time.datetime))\n",
    "        return self.points, self.title\n",
    "    \n",
    "    def show(self):\n",
    "        plt.show()\n",
    "\n",
    "    def thread_f(self):\n",
    "        while True:\n",
    "            # get current time\n",
    "            self.my_time = cysgp4.PyDateTime(datetime.datetime.utcnow())  \n",
    "\n",
    "            result = cysgp4.propagate_many(\n",
    "                self.my_time.mjd,\n",
    "                sat_tles,\n",
    "                RAS_location,\n",
    "                do_sat_azel=False,\n",
    "                )\n",
    "            topo_pos = result['topo']\n",
    "            #print(topo_pos)\n",
    "            # topo_pos_az, topo_pos_el, topo_pos_dist, _ = (topo_pos[..., i] for i in range(4))\n",
    "            self.topo_pos_az, self.topo_pos_el, self.topo_pos_dist, _ = topo_pos.T\n",
    "            self.topo_pos_az = (self.topo_pos_az + 180.) % 360. - 180.\n",
    "            time.sleep(1)  "
   ]
  },
  {
   "cell_type": "code",
   "execution_count": 13,
   "metadata": {},
   "outputs": [
    {
     "data": {
      "application/vnd.jupyter.widget-view+json": {
       "model_id": "bf1c7614e7a64d6d86fab6fe46b262ed",
       "version_major": 2,
       "version_minor": 0
      },
      "text/plain": [
       "Canvas(toolbar=Toolbar(toolitems=[('Home', 'Reset original view', 'home', 'home'), ('Back', 'Back to previous …"
      ]
     },
     "metadata": {},
     "output_type": "display_data"
    }
   ],
   "source": [
    "g = LiveGraph()\n",
    "g.show()"
   ]
  },
  {
   "cell_type": "code",
   "execution_count": 162,
   "metadata": {},
   "outputs": [],
   "source": []
  },
  {
   "cell_type": "code",
   "execution_count": null,
   "metadata": {},
   "outputs": [],
   "source": []
  }
 ],
 "metadata": {
  "kernelspec": {
   "display_name": "Python 3",
   "language": "python",
   "name": "python3"
  },
  "language_info": {
   "codemirror_mode": {
    "name": "ipython",
    "version": 3
   },
   "file_extension": ".py",
   "mimetype": "text/x-python",
   "name": "python",
   "nbconvert_exporter": "python",
   "pygments_lexer": "ipython3",
   "version": "3.7.1"
  }
 },
 "nbformat": 4,
 "nbformat_minor": 4
}
